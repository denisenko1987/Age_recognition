{
 "cells": [
  {
   "cell_type": "code",
   "execution_count": 1,
   "id": "c433e6ae",
   "metadata": {},
   "outputs": [],
   "source": [
    "import face_recognition\n",
    "import cv2\n",
    "from datetime import datetime, timedelta\n",
    "import numpy as np\n",
    "import platform\n",
    "import pickle\n",
    "\n",
    "from PIL import Image\n",
    "import PIL\n",
    "import matplotlib.pyplot as plt\n",
    "import tensorflow as tf\n",
    "from tensorflow import keras\n",
    "from skimage import transform"
   ]
  },
  {
   "cell_type": "code",
   "execution_count": 2,
   "id": "6775c0ef",
   "metadata": {},
   "outputs": [],
   "source": [
    "# Загружаем обученную модель\n",
    "model_a = keras.models.load_model(\"model_a_regression\")"
   ]
  },
  {
   "cell_type": "code",
   "execution_count": 4,
   "id": "6785cee3",
   "metadata": {},
   "outputs": [],
   "source": [
    "def main_loop():\n",
    "    \n",
    "    video_capture = cv2.VideoCapture(0) # захватываем видео с камеры\n",
    "\n",
    "    while True:\n",
    "\n",
    "        ret, frame = video_capture.read() # вытаскиваем изображение\n",
    "\n",
    "        small_frame = cv2.resize(frame, (0, 0), fx=0.25, fy=0.25) # уменьшаем, чтоб легче обрабатывать\n",
    "\n",
    "        rgb_small_frame = small_frame[:, :, ::-1] # меняем bgr на rgb\n",
    "\n",
    "        face_locations = face_recognition.face_locations(rgb_small_frame) # находим лица, если они есть в видео\n",
    "\n",
    "       \n",
    "        for (top, right, bottom, left) in face_locations:\n",
    "            \n",
    "            face_image = rgb_small_frame[top:bottom, left:right] # вытаскиваем изображение лица по координатам\n",
    "            face1 = face_image/255. # нормализуем изображение\n",
    "            face1 = transform.resize(face1, (100, 100, 3)) # ресайзим в целевой размер\n",
    "            face1 = np.expand_dims(face1, axis=0) # добавляем дополнительное измерение\n",
    "\n",
    "            age = model_a.predict(face1)[0][0].round(0) # предсказываем возраст\n",
    "\n",
    "            top *= 4\n",
    "            right *= 4\n",
    "            bottom *= 4\n",
    "            left *= 4\n",
    "           \n",
    "            cv2.rectangle(frame, (left, top), (right, bottom), (0, 0, 255), 2)\n",
    "\n",
    "            cv2.rectangle(frame, (left, bottom - 35), (right, bottom), (0, 0, 255), cv2.FILLED)\n",
    "            cv2.putText(frame, f'Age: {age}', (left + 6, bottom - 6), cv2.FONT_HERSHEY_DUPLEX, 0.8, (255, 255, 255), 1)\n",
    "        \n",
    "        cv2.imshow('Video', frame)\n",
    "\n",
    "        \n",
    "        if cv2.waitKey(1) & 0xFF == ord('q'):\n",
    "            break\n",
    "\n",
    "\n",
    "   \n",
    "    video_capture.release()\n",
    "    cv2.destroyAllWindows()"
   ]
  },
  {
   "cell_type": "code",
   "execution_count": null,
   "id": "e15b37b2",
   "metadata": {},
   "outputs": [],
   "source": [
    "if __name__ == \"__main__\":\n",
    "    main_loop()"
   ]
  },
  {
   "cell_type": "code",
   "execution_count": null,
   "id": "43610d13",
   "metadata": {},
   "outputs": [],
   "source": []
  }
 ],
 "metadata": {
  "kernelspec": {
   "display_name": "Python 3",
   "language": "python",
   "name": "python3"
  },
  "language_info": {
   "codemirror_mode": {
    "name": "ipython",
    "version": 3
   },
   "file_extension": ".py",
   "mimetype": "text/x-python",
   "name": "python",
   "nbconvert_exporter": "python",
   "pygments_lexer": "ipython3",
   "version": "3.7.7"
  },
  "toc": {
   "base_numbering": 1,
   "nav_menu": {},
   "number_sections": true,
   "sideBar": true,
   "skip_h1_title": false,
   "title_cell": "Table of Contents",
   "title_sidebar": "Contents",
   "toc_cell": false,
   "toc_position": {},
   "toc_section_display": true,
   "toc_window_display": false
  },
  "varInspector": {
   "cols": {
    "lenName": 16,
    "lenType": 16,
    "lenVar": 40
   },
   "kernels_config": {
    "python": {
     "delete_cmd_postfix": "",
     "delete_cmd_prefix": "del ",
     "library": "var_list.py",
     "varRefreshCmd": "print(var_dic_list())"
    },
    "r": {
     "delete_cmd_postfix": ") ",
     "delete_cmd_prefix": "rm(",
     "library": "var_list.r",
     "varRefreshCmd": "cat(var_dic_list()) "
    }
   },
   "types_to_exclude": [
    "module",
    "function",
    "builtin_function_or_method",
    "instance",
    "_Feature"
   ],
   "window_display": false
  }
 },
 "nbformat": 4,
 "nbformat_minor": 5
}
